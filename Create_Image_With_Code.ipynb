{
 "cells": [
  {
   "cell_type": "code",
   "execution_count": 3,
   "id": "2f29238b",
   "metadata": {},
   "outputs": [],
   "source": [
    "import cv2"
   ]
  },
  {
   "cell_type": "code",
   "execution_count": 4,
   "id": "0eeeeaa6",
   "metadata": {},
   "outputs": [],
   "source": [
    "import numpy as np"
   ]
  },
  {
   "cell_type": "markdown",
   "id": "5efe60d5",
   "metadata": {},
   "source": [
    "# Create the 3d array with 590 Rows and 1080 Columns"
   ]
  },
  {
   "cell_type": "code",
   "execution_count": 5,
   "id": "a16bb004",
   "metadata": {},
   "outputs": [],
   "source": [
    "a=np.zeros((590,1080,3))"
   ]
  },
  {
   "cell_type": "code",
   "execution_count": 6,
   "id": "57d7204f",
   "metadata": {},
   "outputs": [
    {
     "data": {
      "text/plain": [
       "(590, 1080, 3)"
      ]
     },
     "execution_count": 6,
     "metadata": {},
     "output_type": "execute_result"
    }
   ],
   "source": [
    "a.shape"
   ]
  },
  {
   "cell_type": "code",
   "execution_count": 7,
   "id": "34fcb419",
   "metadata": {},
   "outputs": [],
   "source": [
    "a[:]=[0,0,0]"
   ]
  },
  {
   "cell_type": "markdown",
   "id": "29bfd27c",
   "metadata": {},
   "source": [
    "# Roof Code"
   ]
  },
  {
   "cell_type": "code",
   "execution_count": 8,
   "id": "2e417b16",
   "metadata": {},
   "outputs": [],
   "source": [
    "\n",
    "a[229:240,250:650]=[164,73,163]\n",
    "a[219:230,270:630]=[164,73,163]\n",
    "a[209:220,290:610]=[164,73,163]\n",
    "a[199:210,290:610]=[164,73,163]\n",
    "a[189:200,330:570]=[164,73,163]\n",
    "a[179:190,350:550]=[164,73,163]\n",
    "a[169:180,370:530]=[164,73,163]\n",
    "a[159:170,390:510]=[164,73,163]\n",
    "a[149:160,410:490]=[164,73,163]\n",
    "a[139:150,430:470]=[164,73,163]"
   ]
  },
  {
   "cell_type": "markdown",
   "id": "e83c2f66",
   "metadata": {},
   "source": [
    "<h1 > Flag Code      </h1>"
   ]
  },
  {
   "cell_type": "code",
   "execution_count": 9,
   "id": "a3d94b05",
   "metadata": {},
   "outputs": [],
   "source": [
    "a[90:140,448:453]=[64,128,0]\n",
    "a[105:110,453:480]=[0,0,255]\n",
    "a[100:106,453:475]=[0,0,255]\n",
    "a[95:101,453:470]=[0,0,255]\n",
    "a[90:96,453:465]=[0,0,255]"
   ]
  },
  {
   "cell_type": "markdown",
   "id": "4a11bceb",
   "metadata": {},
   "source": [
    "# Wall Code"
   ]
  },
  {
   "cell_type": "code",
   "execution_count": 10,
   "id": "754ccda4",
   "metadata": {},
   "outputs": [],
   "source": [
    "a[239:400,270:280]=[1,0,200]\n",
    "a[239:400,610:620]=[1,0,200]"
   ]
  },
  {
   "cell_type": "markdown",
   "id": "955e1c9e",
   "metadata": {},
   "source": [
    "# Lower Base Code "
   ]
  },
  {
   "cell_type": "code",
   "execution_count": 11,
   "id": "bc52c4f7",
   "metadata": {},
   "outputs": [],
   "source": [
    "a[399:410,250:640]=[0,0,128]"
   ]
  },
  {
   "cell_type": "markdown",
   "id": "d1918efb",
   "metadata": {},
   "source": [
    "# Door Code"
   ]
  },
  {
   "cell_type": "code",
   "execution_count": 12,
   "id": "fc3ad7c9",
   "metadata": {},
   "outputs": [],
   "source": [
    "a[300:399,420:480]=[0,0,129]"
   ]
  },
  {
   "cell_type": "markdown",
   "id": "7bce58f8",
   "metadata": {},
   "source": [
    "# Windows Code  "
   ]
  },
  {
   "cell_type": "code",
   "execution_count": 13,
   "id": "66aa9586",
   "metadata": {},
   "outputs": [],
   "source": [
    "a[300:350,310:380]=[125,156,0]\n",
    "a[300:350,520:590]=[125,156,0]\n",
    "a[320:330,310:380]=[0,0,200]\n",
    "a[320:330,520:590]=[0,0,200]\n",
    "a[300:350,340:350]=[0,0,200]\n",
    "a[300:350,548:558]=[0,0,200]"
   ]
  },
  {
   "cell_type": "markdown",
   "id": "73d899fa",
   "metadata": {},
   "source": [
    "# Upper And Lower Colors "
   ]
  },
  {
   "cell_type": "code",
   "execution_count": 14,
   "id": "02023c92",
   "metadata": {},
   "outputs": [],
   "source": [
    "a[409:]=[64,255,0]\n",
    "a[450:470]=[255,255,255]"
   ]
  },
  {
   "cell_type": "markdown",
   "id": "2ebce6b9",
   "metadata": {},
   "source": [
    "# To Show The Image "
   ]
  },
  {
   "cell_type": "code",
   "execution_count": 15,
   "id": "ada2f720",
   "metadata": {},
   "outputs": [],
   "source": [
    "cv2.imshow('myimage',a)\n",
    "cv2.waitKey()\n",
    "cv2.destroyAllWindows()"
   ]
  },
  {
   "cell_type": "markdown",
   "id": "69ba1365",
   "metadata": {},
   "source": [
    "# To Save The Images"
   ]
  },
  {
   "cell_type": "code",
   "execution_count": 16,
   "id": "2354092a",
   "metadata": {},
   "outputs": [
    {
     "data": {
      "text/plain": [
       "True"
      ]
     },
     "execution_count": 16,
     "metadata": {},
     "output_type": "execute_result"
    }
   ],
   "source": [
    "cv2.imwrite(\"Createimage.jpg\",a)"
   ]
  },
  {
   "cell_type": "code",
   "execution_count": null,
   "id": "e5fe5c41",
   "metadata": {},
   "outputs": [],
   "source": []
  }
 ],
 "metadata": {
  "kernelspec": {
   "display_name": "Python 3",
   "language": "python",
   "name": "python3"
  },
  "language_info": {
   "codemirror_mode": {
    "name": "ipython",
    "version": 3
   },
   "file_extension": ".py",
   "mimetype": "text/x-python",
   "name": "python",
   "nbconvert_exporter": "python",
   "pygments_lexer": "ipython3",
   "version": "3.7.6"
  }
 },
 "nbformat": 4,
 "nbformat_minor": 5
}
